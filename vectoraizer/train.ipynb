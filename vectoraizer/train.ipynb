{
 "cells": [
  {
   "cell_type": "code",
   "source": [
    "!python --version"
   ],
   "metadata": {
    "colab": {
     "base_uri": "https://localhost:8080/"
    },
    "id": "nvlMkRlrgX3t",
    "outputId": "2f9957b7-2ddc-4946-d1db-7285c30bd7ed"
   },
   "execution_count": 1,
   "outputs": [
    {
     "name": "stdout",
     "output_type": "stream",
     "text": [
      "Python 3.8.15\r\n"
     ]
    }
   ]
  },
  {
   "cell_type": "markdown",
   "source": [
    "# Mask R-CNN - Train on Shapes Dataset"
   ],
   "metadata": {
    "collapsed": false
   }
  },
  {
   "cell_type": "code",
   "source": [
    "import os\n",
    "import random\n",
    "import sys\n",
    "\n",
    "import cv2\n",
    "import matplotlib.pyplot as plt\n",
    "import numpy as np\n",
    "\n",
    "# Root directory of the project\n",
    "ROOT_DIR = os.path.abspath('../')\n",
    "sys.path.append(ROOT_DIR)\n",
    "from mrcnn.config import Config\n",
    "from mrcnn import utils\n",
    "import mrcnn.model as modellib\n",
    "from mrcnn import visualize\n",
    "from mrcnn.model import log\n",
    "\n",
    "%load_ext autoreload\n",
    "%autoreload 2\n",
    "%matplotlib inline\n",
    "\n",
    "# Directory to save logs and trained model\n",
    "MODEL_DIR = os.path.join(ROOT_DIR, 'logs')\n",
    "\n",
    "# Local path to trained weights file\n",
    "COCO_MODEL_PATH = os.path.join(ROOT_DIR, 'mask_rcnn_shapes_0001.h5')\n",
    "\n",
    "# Download COCO trained weights from Releases if needed\n",
    "if not os.path.exists(COCO_MODEL_PATH):\n",
    "    utils.download_trained_weights(COCO_MODEL_PATH)"
   ],
   "metadata": {
    "colab": {
     "base_uri": "https://localhost:8080/"
    },
    "id": "TL0ddR8Nr_5J",
    "outputId": "c2e00383-3bac-4f5d-b22e-90c3bfa7b1d8"
   },
   "execution_count": 2,
   "outputs": [
    {
     "name": "stderr",
     "output_type": "stream",
     "text": [
      "2022-12-21 16:09:28.147634: I tensorflow/core/platform/cpu_feature_guard.cc:193] This TensorFlow binary is optimized with oneAPI Deep Neural Network Library (oneDNN) to use the following CPU instructions in performance-critical operations:  SSE4.1 SSE4.2 AVX AVX2 FMA\n",
      "To enable them in other operations, rebuild TensorFlow with the appropriate compiler flags.\n"
     ]
    }
   ]
  },
  {
   "cell_type": "markdown",
   "metadata": {
    "id": "6CD4WkRtjfGA"
   },
   "source": [
    "## Configurations"
   ]
  },
  {
   "cell_type": "code",
   "execution_count": 3,
   "metadata": {
    "id": "om2CNzvojfGA",
    "colab": {
     "base_uri": "https://localhost:8080/"
    },
    "outputId": "59a17a06-aa99-4371-f5d6-0a2f91ee73df"
   },
   "outputs": [
    {
     "name": "stdout",
     "output_type": "stream",
     "text": [
      "\n",
      "Configurations:\n",
      "BACKBONE                       resnet101\n",
      "BACKBONE_STRIDES               [4, 8, 16, 32, 64]\n",
      "BATCH_SIZE                     8\n",
      "BBOX_STD_DEV                   [0.1 0.1 0.2 0.2]\n",
      "COMPUTE_BACKBONE_SHAPE         None\n",
      "DETECTION_MAX_INSTANCES        100\n",
      "DETECTION_MIN_CONFIDENCE       0.7\n",
      "DETECTION_NMS_THRESHOLD        0.3\n",
      "FPN_CLASSIF_FC_LAYERS_SIZE     1024\n",
      "GPU_COUNT                      1\n",
      "GRADIENT_CLIP_NORM             5.0\n",
      "IMAGES_PER_GPU                 8\n",
      "IMAGE_CHANNEL_COUNT            3\n",
      "IMAGE_MAX_DIM                  128\n",
      "IMAGE_META_SIZE                16\n",
      "IMAGE_MIN_DIM                  128\n",
      "IMAGE_MIN_SCALE                0\n",
      "IMAGE_RESIZE_MODE              square\n",
      "IMAGE_SHAPE                    [128 128   3]\n",
      "LEARNING_MOMENTUM              0.9\n",
      "LEARNING_RATE                  0.001\n",
      "LOSS_WEIGHTS                   {'rpn_class_loss': 1.0, 'rpn_bbox_loss': 1.0, 'mrcnn_class_loss': 1.0, 'mrcnn_bbox_loss': 1.0, 'mrcnn_mask_loss': 1.0}\n",
      "MASK_POOL_SIZE                 14\n",
      "MASK_SHAPE                     [28, 28]\n",
      "MAX_GT_INSTANCES               100\n",
      "MEAN_PIXEL                     [123.7 116.8 103.9]\n",
      "MINI_MASK_SHAPE                (56, 56)\n",
      "NAME                           shapes\n",
      "NUM_CLASSES                    4\n",
      "POOL_SIZE                      7\n",
      "POST_NMS_ROIS_INFERENCE        1000\n",
      "POST_NMS_ROIS_TRAINING         2000\n",
      "PRE_NMS_LIMIT                  6000\n",
      "ROI_POSITIVE_RATIO             0.33\n",
      "RPN_ANCHOR_RATIOS              [0.5, 1, 2]\n",
      "RPN_ANCHOR_SCALES              (8, 16, 32, 64, 128)\n",
      "RPN_ANCHOR_STRIDE              1\n",
      "RPN_BBOX_STD_DEV               [0.1 0.1 0.2 0.2]\n",
      "RPN_NMS_THRESHOLD              0.7\n",
      "RPN_TRAIN_ANCHORS_PER_IMAGE    256\n",
      "RUN_EAGERLY                    False\n",
      "STEPS_PER_EPOCH                100\n",
      "TOP_DOWN_PYRAMID_SIZE          256\n",
      "TRAIN_BN                       False\n",
      "TRAIN_ROIS_PER_IMAGE           32\n",
      "USE_MINI_MASK                  False\n",
      "USE_RPN_ROIS                   True\n",
      "VALIDATION_STEPS               5\n",
      "WEIGHT_DECAY                   0.0001\n",
      "\n",
      "\n"
     ]
    }
   ],
   "source": [
    "class ShapesConfig(Config):\n",
    "    \"\"\"Configuration for training on the toy shapes dataset.\n",
    "    Derives from the base Config class and overrides values specific\n",
    "    to the toy shapes dataset.\n",
    "    \"\"\"\n",
    "    # Give the configuration a recognizable name\n",
    "    NAME = 'shapes'\n",
    "\n",
    "    # Train on 1 GPU and 8 images per GPU. We can put multiple images on each\n",
    "    # GPU because the images are small. Batch size is 8 (GPUs * images/GPU).\n",
    "    GPU_COUNT = 1\n",
    "    IMAGES_PER_GPU = 8\n",
    "\n",
    "    # Number of classes (including background)\n",
    "    NUM_CLASSES = 1 + 3  # background + 3 shapes\n",
    "\n",
    "    # Use small images for faster training. Set the limits of the small side\n",
    "    # the large side, and that determines the image shape.\n",
    "    IMAGE_MIN_DIM = 128\n",
    "    IMAGE_MAX_DIM = 128\n",
    "\n",
    "    # Use smaller anchors because our image and objects are small\n",
    "    RPN_ANCHOR_SCALES = (8, 16, 32, 64, 128)  # anchor side in pixels\n",
    "\n",
    "    # Reduce training ROIs per image because the images are small and have\n",
    "    # few objects. Aim to allow ROI sampling to pick 33% positive ROIs.\n",
    "    TRAIN_ROIS_PER_IMAGE = 32\n",
    "\n",
    "    # Use a small epoch since the data is simple\n",
    "    STEPS_PER_EPOCH = 100\n",
    "\n",
    "    # use small validation steps since the epoch is small\n",
    "    VALIDATION_STEPS = 5\n",
    "    USE_MINI_MASK = False\n",
    "    RUN_EAGERLY = False\n",
    "\n",
    "config = ShapesConfig()\n",
    "config.display()"
   ]
  },
  {
   "cell_type": "markdown",
   "metadata": {
    "id": "ot-BDR9OjfGB"
   },
   "source": [
    "## Notebook Preferences"
   ]
  },
  {
   "cell_type": "code",
   "execution_count": 4,
   "metadata": {
    "collapsed": true,
    "id": "sKWFCtMJjfGC"
   },
   "outputs": [],
   "source": [
    "def get_ax(rows=1, cols=1, size=8):\n",
    "    \"\"\"Return a Matplotlib Axes array to be used in\n",
    "    all visualizations in the notebook. Provide a\n",
    "    central point to control graph sizes.\n",
    "\n",
    "    Change the default size attribute to control the size\n",
    "    of rendered images\n",
    "    \"\"\"\n",
    "    _, ax = plt.subplots(rows, cols, figsize=(size * cols, size * rows))\n",
    "    return ax"
   ]
  },
  {
   "cell_type": "markdown",
   "metadata": {
    "id": "s41sVP5RjfGD"
   },
   "source": [
    "## Dataset\n",
    "\n",
    "Create a synthetic dataset\n",
    "\n",
    "Extend the Dataset class and add a method to load the shapes dataset, `load_shapes()`, and override the following methods:\n",
    "\n",
    "* load_image()\n",
    "* load_mask()\n",
    "* image_reference()"
   ]
  },
  {
   "cell_type": "code",
   "execution_count": 5,
   "metadata": {
    "collapsed": true,
    "id": "WbzTHG-ijfGD"
   },
   "outputs": [],
   "source": [
    "from vectoraizer.shapes import Rectangle, Ellipse, Path, Shape\n",
    "\n",
    "shape_classes = {\n",
    "    'rect': Rectangle,\n",
    "    'ellipse': Ellipse,\n",
    "    'path': Path,\n",
    "}\n",
    "\n",
    "\n",
    "class ShapesDataset(utils.Dataset):\n",
    "    \"\"\"\n",
    "    Generates the shapes synthetic dataset. The dataset consists of simple\n",
    "    shapes (polygons, polylines, rectangles, squares, circles, ellipses) placed randomly on a blank surface.\n",
    "    The images are generated on the fly. No file access required.\n",
    "    \"\"\"\n",
    "\n",
    "    def load_shapes(self, count, height, width):\n",
    "        \"\"\"Generate the requested number of synthetic images.\n",
    "        count: number of images to generate.\n",
    "        height, width: the size of the generated images.\n",
    "        \"\"\"\n",
    "        # Add classes\n",
    "        self.add_class('shapes', 1, Rectangle.name)\n",
    "        self.add_class('shapes', 2, Ellipse.name)\n",
    "        self.add_class('shapes', 3, Path.name)\n",
    "\n",
    "        # Add images\n",
    "        # Generate random specifications of images (i.e. color and\n",
    "        # list of shapes sizes and locations). This is more compact than\n",
    "        # actual images. Images are generated on the fly in load_image().\n",
    "        for i in range(count):\n",
    "            bg_color, shapes = self.random_image(height, width)\n",
    "            self.add_image('shapes', image_id=i, path=None,\n",
    "                           width=width, height=height,\n",
    "                           bg_color=bg_color, shapes=shapes)\n",
    "\n",
    "    def load_image(self, image_id, with_bbox = False):\n",
    "        \"\"\"\n",
    "        Generate an image from the specs of the given image ID.\n",
    "        Typically, this function loads the image from a file, but\n",
    "        in this case it generates the image on the fly from the\n",
    "        specs in image_info.\n",
    "        \"\"\"\n",
    "        info = self.image_info[image_id]\n",
    "        bg_color = np.array(info['bg_color']).reshape([1, 1, 3])\n",
    "        _image = np.ones([info['height'], info['width'], 3], dtype=np.uint8)\n",
    "        _image = _image * bg_color.astype(np.uint8)\n",
    "        for shape in info['shapes']:\n",
    "            _image = self.draw_shape(_image, shape, with_bbox=with_bbox)\n",
    "        return _image\n",
    "\n",
    "    def image_reference(self, image_id):\n",
    "        \"\"\"Return the shapes data of the image\"\"\"\n",
    "        info = self.image_info[image_id]\n",
    "        if info['source'] == 'shapes':\n",
    "            return info['shapes']\n",
    "        else:\n",
    "            super(self.__class__).image_reference(self, image_id)\n",
    "\n",
    "    def load_mask(self, image_id):\n",
    "        \"\"\"Generate instance masks for shapes of the given image ID\"\"\"\n",
    "        info = self.image_info[image_id]\n",
    "        shapes = info['shapes']\n",
    "        count = len(shapes)\n",
    "        masks = np.zeros([info['height'], info['width'], count], dtype=np.uint8)\n",
    "        for i, shape in enumerate(info['shapes']):\n",
    "            masks[:, :, i:i + 1] = self.draw_shape(masks[:, :, i:i + 1].copy(), shape, 1)\n",
    "        # Handle occlusions\n",
    "        occlusion = np.logical_not(masks[:, :, -1]).astype(np.uint8)\n",
    "        for i in range(count - 2, -1, -1):\n",
    "            masks[:, :, i] = masks[:, :, i] * occlusion\n",
    "            occlusion = np.logical_and(occlusion, np.logical_not(masks[:, :, i]))\n",
    "        # Map class names to class IDs.\n",
    "        _class_ids = np.array([self.class_names.index(s.name) for s in shapes])\n",
    "        return masks.astype(np.bool), _class_ids.astype(np.int32)\n",
    "\n",
    "    def draw_shape(self, canvas, shape, color=None, with_bbox=False):\n",
    "        \"\"\"Draws a shape from the given specs\"\"\"\n",
    "        return shape.draw(canvas, color, with_bbox)\n",
    "\n",
    "    def generate_random_shape(self, image_height, image_width):\n",
    "        \"\"\"\n",
    "        Generates specifications of a random shape that lies within\n",
    "        the given height and width boundaries.\n",
    "\n",
    "        Parameters\n",
    "        ----------\n",
    "        image_width: int\n",
    "        image_height: int\n",
    "\n",
    "        Returns\n",
    "        -------\n",
    "        Shape\n",
    "        \"\"\"\n",
    "        # Shape\n",
    "        shape = random.choice(list(map(lambda cl: cl['name'], self.class_info[1:])))\n",
    "        return shape_classes[shape].generate(image_width, image_height)\n",
    "\n",
    "    def random_image(self, image_height, image_width):\n",
    "        \"\"\"Creates random specifications of an image with multiple shapes.\n",
    "        Returns the background color of the image and a list of shape\n",
    "        specifications that can be used to draw the image.\n",
    "        \"\"\"\n",
    "        # Pick random background color\n",
    "        bg_color = np.array([random.randint(0, 255) for _ in range(3)])\n",
    "        # Generate a few random shapes and record their\n",
    "        # bounding boxes\n",
    "        shapes = []\n",
    "        boxes = []\n",
    "        shapes_count = random.randint(1, 5)\n",
    "        for _ in range(shapes_count):\n",
    "            shape = self.generate_random_shape(image_height, image_width)\n",
    "            shapes.append(shape)\n",
    "            x, y, width, height = shape.bounding_box\n",
    "            boxes.append((x, y, x + width, y + width))\n",
    "        # Apply non-max suppression wit 0.3 threshold to avoid\n",
    "        # shapes covering each other\n",
    "        keep_ixs = utils.non_max_suppression(np.array(boxes), np.arange(shapes_count), 0.3)\n",
    "        shapes = [s for i, s in enumerate(shapes) if i in keep_ixs]\n",
    "        return bg_color, shapes"
   ]
  },
  {
   "cell_type": "code",
   "execution_count": 6,
   "metadata": {
    "collapsed": true,
    "id": "7vDtCWJ5jfGF"
   },
   "outputs": [],
   "source": [
    "# Training dataset\n",
    "dataset_train = ShapesDataset()\n",
    "dataset_train.load_shapes(500, config.IMAGE_SHAPE[0], config.IMAGE_SHAPE[1])\n",
    "dataset_train.prepare()\n",
    "\n",
    "# Validation dataset\n",
    "dataset_val = ShapesDataset()\n",
    "dataset_val.load_shapes(50, config.IMAGE_SHAPE[0], config.IMAGE_SHAPE[1])\n",
    "dataset_val.prepare()"
   ]
  },
  {
   "cell_type": "code",
   "execution_count": 7,
   "metadata": {
    "id": "mWw9D_OgjfGF",
    "colab": {
     "base_uri": "https://localhost:8080/",
     "height": 673
    },
    "outputId": "861628ac-b4fa-4caa-88ad-9b7c4d5736dc"
   },
   "outputs": [
    {
     "name": "stderr",
     "output_type": "stream",
     "text": [
      "/var/folders/qq/1kcdwlmn5wbfm9x7kldmhc580000gn/T/ipykernel_48688/3303499860.py:75: DeprecationWarning: `np.bool` is a deprecated alias for the builtin `bool`. To silence this warning, use `bool` by itself. Doing this will not modify any behavior and is safe. If you specifically wanted the numpy scalar type, use `np.bool_` here.\n",
      "Deprecated in NumPy 1.20; for more details and guidance: https://numpy.org/devdocs/release/1.20.0-notes.html#deprecations\n",
      "  return masks.astype(np.bool), _class_ids.astype(np.int32)\n"
     ]
    },
    {
     "data": {
      "text/plain": "<Figure size 1400x500 with 5 Axes>",
      "image/png": "[encoded data removed]"
     },
     "metadata": {},
     "output_type": "display_data"
    },
    {
     "data": {
      "text/plain": "<Figure size 1400x500 with 5 Axes>",
      "image/png": "[encoded data removed]"
     },
     "metadata": {},
     "output_type": "display_data"
    },
    {
     "data": {
      "text/plain": "<Figure size 1400x500 with 5 Axes>",
      "image/png": "[encoded data removed]"
     },
     "metadata": {},
     "output_type": "display_data"
    },
    {
     "data": {
      "text/plain": "<Figure size 1400x500 with 5 Axes>",
      "image/png": "[encoded data removed]"
     },
     "metadata": {},
     "output_type": "display_data"
    },
    {
     "data": {
      "text/plain": "<Figure size 1400x500 with 5 Axes>",
      "image/png": "[encoded data removed]"
     },
     "metadata": {},
     "output_type": "display_data"
    },
    {
     "data": {
      "text/plain": "<Figure size 1400x500 with 5 Axes>",
      "image/png": "[encoded data removed]"
     },
     "metadata": {},
     "output_type": "display_data"
    },
    {
     "data": {
      "text/plain": "<Figure size 1400x500 with 5 Axes>",
      "image/png": "[encoded data removed]"
     },
     "metadata": {},
     "output_type": "display_data"
    },
    {
     "data": {
      "text/plain": "<Figure size 1400x500 with 5 Axes>",
      "image/png": "[encoded data removed]"
     },
     "metadata": {},
     "output_type": "display_data"
    },
    {
     "data": {
      "text/plain": "<Figure size 1400x500 with 5 Axes>",
      "image/png": "[encoded data removed]"
     },
     "metadata": {},
     "output_type": "display_data"
    },
    {
     "data": {
      "text/plain": "<Figure size 1400x500 with 5 Axes>",
      "image/png": "[encoded data removed]"
     },
     "metadata": {},
     "output_type": "display_data"
    }
   ],
   "source": [
    "# Load and display random samples\n",
    "image_ids = np.random.choice(dataset_train.image_ids, 10)\n",
    "for _image_id in image_ids:\n",
    "    image = dataset_train.load_image(_image_id, True)\n",
    "    mask, class_ids = dataset_train.load_mask(_image_id)\n",
    "    visualize.display_top_masks(image, mask, class_ids,\n",
    "                                dataset_train.class_names)  #, dataset_train.image_info[_image_id]['shapes'])"
   ]
  },
  {
   "cell_type": "markdown",
   "metadata": {
    "id": "Yhhk-akJjfGG"
   },
   "source": [
    "## Create Model"
   ]
  },
  {
   "cell_type": "code",
   "execution_count": 8,
   "metadata": {
    "collapsed": true,
    "id": "5S0w3IsRjfGG"
   },
   "outputs": [
    {
     "name": "stderr",
     "output_type": "stream",
     "text": [
      "2022-12-21 16:09:38.770729: I tensorflow/core/platform/cpu_feature_guard.cc:193] This TensorFlow binary is optimized with oneAPI Deep Neural Network Library (oneDNN) to use the following CPU instructions in performance-critical operations:  SSE4.1 SSE4.2 AVX AVX2 FMA\n",
      "To enable them in other operations, rebuild TensorFlow with the appropriate compiler flags.\n",
      "2022-12-21 16:09:38.771857: I tensorflow/core/common_runtime/pluggable_device/pluggable_device_factory.cc:306] Could not identify NUMA node of platform GPU ID 0, defaulting to 0. Your kernel may not have been built with NUMA support.\n",
      "2022-12-21 16:09:38.771896: I tensorflow/core/common_runtime/pluggable_device/pluggable_device_factory.cc:272] Created TensorFlow device (/job:localhost/replica:0/task:0/device:GPU:0 with 0 MB memory) -> physical PluggableDevice (device: 0, name: METAL, pci bus id: <undefined>)\n"
     ]
    },
    {
     "name": "stdout",
     "output_type": "stream",
     "text": [
      "Metal device set to: AMD Radeon Pro 5300M\n",
      "WARNING:tensorflow:From /Users/umbo/Projects/VectorAIzer/venv/lib/python3.8/site-packages/tensorflow/python/autograph/pyct/static_analysis/liveness.py:83: Analyzer.lamba_check (from tensorflow.python.autograph.pyct.static_analysis.liveness) is deprecated and will be removed after 2023-09-23.\n",
      "Instructions for updating:\n",
      "Lambda fuctions will be no more assumed to be used in the statement where they are used, or at least in the same block. https://github.com/tensorflow/tensorflow/issues/56089\n",
      "WARNING:tensorflow:From /Users/umbo/Projects/VectorAIzer/venv/lib/python3.8/site-packages/tensorflow/python/util/deprecation.py:629: calling map_fn_v2 (from tensorflow.python.ops.map_fn) with dtype is deprecated and will be removed in a future version.\n",
      "Instructions for updating:\n",
      "Use fn_output_signature instead\n",
      "Rect\n"
     ]
    }
   ],
   "source": [
    "# Create model in training mode\n",
    "model = modellib.MaskRCNN(mode='training', config=config,\n",
    "                          model_dir=MODEL_DIR)"
   ]
  },
  {
   "cell_type": "code",
   "execution_count": 9,
   "metadata": {
    "collapsed": true,
    "scrolled": false,
    "id": "9Zn7lJnNjfGH"
   },
   "outputs": [],
   "source": [
    "# Which weights to start with?\n",
    "init_with = 'coco'  # imagenet, coco, or last\n",
    "\n",
    "if init_with == 'imagenet':\n",
    "    model.load_weights(model.get_imagenet_weights(), by_name=True)\n",
    "elif init_with == 'coco':\n",
    "    # Load weights trained on MS COCO, but skip layers that\n",
    "    # are different due to the different number of classes\n",
    "    # See README for instructions to download the COCO weights\n",
    "    model.load_weights(COCO_MODEL_PATH, by_name=True,\n",
    "                       exclude=['mrcnn_class_logits', 'mrcnn_bbox_fc',\n",
    "                                'mrcnn_bbox', 'mrcnn_mask'])\n",
    "elif init_with == 'last':\n",
    "    # Load the last model you trained and continue training\n",
    "    model.load_weights(model.find_last(), by_name=True)"
   ]
  },
  {
   "cell_type": "markdown",
   "metadata": {
    "id": "A6z_l3e6jfGH"
   },
   "source": [
    "## Training\n",
    "\n",
    "Train in two stages:\n",
    "1. Only the heads. Here we're freezing all the backbone layers and training only the randomly initialized layers (i.e. the ones that we didn't use pre-trained weights from MS COCO). To train only the head layers, pass `layers='heads'` to the `train()` function.\n",
    "\n",
    "2. Fine-tune all layers. For this simple example it's not necessary, but we're including it to show the process. Simply pass `layers='all'` to train all layers."
   ]
  },
  {
   "cell_type": "code",
   "execution_count": 10,
   "metadata": {
    "scrolled": false,
    "id": "rg5DJ-7yjfGH",
    "colab": {
     "base_uri": "https://localhost:8080/"
    },
    "outputId": "5938fbb7-9c0f-4677-b7eb-9d56aebe9822"
   },
   "outputs": [
    {
     "name": "stdout",
     "output_type": "stream",
     "text": [
      "\n",
      "Starting at epoch 0. LR=0.001\n",
      "\n",
      "Checkpoint Path: /Users/umbo/Projects/VectorAIzer/logs/shapes20221221T1609/mask_rcnn_shapes_{epoch:04d}.h5\n",
      "Selecting layers to train\n",
      "vectors                (VectorsLayer)\n",
      "n workers used: 12\n",
      "WARNING:tensorflow:Model failed to serialize as JSON. Ignoring... \n",
      "Layer VectorsLayer has arguments ['self', 'config']\n",
      "in `__init__` and therefore must override `get_config()`.\n",
      "\n",
      "Example:\n",
      "\n",
      "class CustomLayer(keras.layers.Layer):\n",
      "    def __init__(self, arg1, arg2):\n",
      "        super().__init__()\n",
      "        self.arg1 = arg1\n",
      "        self.arg2 = arg2\n",
      "\n",
      "    def get_config(self):\n",
      "        config = super().get_config()\n",
      "        config.update({\n",
      "            \"arg1\": self.arg1,\n",
      "            \"arg2\": self.arg2,\n",
      "        })\n",
      "        return config\n"
     ]
    },
    {
     "name": "stderr",
     "output_type": "stream",
     "text": [
      "/var/folders/qq/1kcdwlmn5wbfm9x7kldmhc580000gn/T/ipykernel_48688/3303499860.py:75: DeprecationWarning: `np.bool` is a deprecated alias for the builtin `bool`. To silence this warning, use `bool` by itself. Doing this will not modify any behavior and is safe. If you specifically wanted the numpy scalar type, use `np.bool_` here.\n",
      "Deprecated in NumPy 1.20; for more details and guidance: https://numpy.org/devdocs/release/1.20.0-notes.html#deprecations\n",
      "  return masks.astype(np.bool), _class_ids.astype(np.int32)\n",
      "/var/folders/qq/1kcdwlmn5wbfm9x7kldmhc580000gn/T/ipykernel_48688/3303499860.py:75: DeprecationWarning: `np.bool` is a deprecated alias for the builtin `bool`. To silence this warning, use `bool` by itself. Doing this will not modify any behavior and is safe. If you specifically wanted the numpy scalar type, use `np.bool_` here.\n",
      "Deprecated in NumPy 1.20; for more details and guidance: https://numpy.org/devdocs/release/1.20.0-notes.html#deprecations\n",
      "  return masks.astype(np.bool), _class_ids.astype(np.int32)\n",
      "/var/folders/qq/1kcdwlmn5wbfm9x7kldmhc580000gn/T/ipykernel_48688/3303499860.py:75: DeprecationWarning: `np.bool` is a deprecated alias for the builtin `bool`. To silence this warning, use `bool` by itself. Doing this will not modify any behavior and is safe. If you specifically wanted the numpy scalar type, use `np.bool_` here.\n",
      "Deprecated in NumPy 1.20; for more details and guidance: https://numpy.org/devdocs/release/1.20.0-notes.html#deprecations\n",
      "  return masks.astype(np.bool), _class_ids.astype(np.int32)\n",
      "/var/folders/qq/1kcdwlmn5wbfm9x7kldmhc580000gn/T/ipykernel_48688/3303499860.py:75: DeprecationWarning: `np.bool` is a deprecated alias for the builtin `bool`. To silence this warning, use `bool` by itself. Doing this will not modify any behavior and is safe. If you specifically wanted the numpy scalar type, use `np.bool_` here.\n",
      "Deprecated in NumPy 1.20; for more details and guidance: https://numpy.org/devdocs/release/1.20.0-notes.html#deprecations\n",
      "  return masks.astype(np.bool), _class_ids.astype(np.int32)\n",
      "/var/folders/qq/1kcdwlmn5wbfm9x7kldmhc580000gn/T/ipykernel_48688/3303499860.py:75: DeprecationWarning: `np.bool` is a deprecated alias for the builtin `bool`. To silence this warning, use `bool` by itself. Doing this will not modify any behavior and is safe. If you specifically wanted the numpy scalar type, use `np.bool_` here.\n",
      "Deprecated in NumPy 1.20; for more details and guidance: https://numpy.org/devdocs/release/1.20.0-notes.html#deprecations\n",
      "  return masks.astype(np.bool), _class_ids.astype(np.int32)\n",
      "/var/folders/qq/1kcdwlmn5wbfm9x7kldmhc580000gn/T/ipykernel_48688/3303499860.py:75: DeprecationWarning: `np.bool` is a deprecated alias for the builtin `bool`. To silence this warning, use `bool` by itself. Doing this will not modify any behavior and is safe. If you specifically wanted the numpy scalar type, use `np.bool_` here.\n",
      "Deprecated in NumPy 1.20; for more details and guidance: https://numpy.org/devdocs/release/1.20.0-notes.html#deprecations\n",
      "  return masks.astype(np.bool), _class_ids.astype(np.int32)\n",
      "/var/folders/qq/1kcdwlmn5wbfm9x7kldmhc580000gn/T/ipykernel_48688/3303499860.py:75: DeprecationWarning: `np.bool` is a deprecated alias for the builtin `bool`. To silence this warning, use `bool` by itself. Doing this will not modify any behavior and is safe. If you specifically wanted the numpy scalar type, use `np.bool_` here.\n",
      "Deprecated in NumPy 1.20; for more details and guidance: https://numpy.org/devdocs/release/1.20.0-notes.html#deprecations\n",
      "  return masks.astype(np.bool), _class_ids.astype(np.int32)\n",
      "/var/folders/qq/1kcdwlmn5wbfm9x7kldmhc580000gn/T/ipykernel_48688/3303499860.py:75: DeprecationWarning: `np.bool` is a deprecated alias for the builtin `bool`. To silence this warning, use `bool` by itself. Doing this will not modify any behavior and is safe. If you specifically wanted the numpy scalar type, use `np.bool_` here.\n",
      "Deprecated in NumPy 1.20; for more details and guidance: https://numpy.org/devdocs/release/1.20.0-notes.html#deprecations\n",
      "  return masks.astype(np.bool), _class_ids.astype(np.int32)\n",
      "/var/folders/qq/1kcdwlmn5wbfm9x7kldmhc580000gn/T/ipykernel_48688/3303499860.py:75: DeprecationWarning: `np.bool` is a deprecated alias for the builtin `bool`. To silence this warning, use `bool` by itself. Doing this will not modify any behavior and is safe. If you specifically wanted the numpy scalar type, use `np.bool_` here.\n",
      "Deprecated in NumPy 1.20; for more details and guidance: https://numpy.org/devdocs/release/1.20.0-notes.html#deprecations\n",
      "  return masks.astype(np.bool), _class_ids.astype(np.int32)\n"
     ]
    },
    {
     "name": "stdout",
     "output_type": "stream",
     "text": [
      "Shapes: [b'[[6, 0, 49, 87], [30, 76, 97, 46], [62, 54, 33, 55], [21, 19, 79, 42]]'\n",
      " b'[[22, 60, 58, 51], [35, 37, 32, 28]]'\n",
      " b'[[67, 28, 27, 25], array([[ 98,  30],\\n       [121,  62],\\n       [118,  87],\\n       [ 92, 119]], dtype=int32), [60, 66, 41, 33]]'\n",
      " b'[array([[ 89,  73],\\n       [ 91,  65],\\n       [122,  65],\\n       [127,  93],\\n       [ 95, 113],\\n       [ 87, 127]], dtype=int32), [82, 53, 25, 31], [9, 71, 66, 32], [3, 19, 101, 102]]'\n",
      " b'[[34, 50, 31, 27], array([[ 61, 119],\\n       [ 59, 107],\\n       [116,  96],\\n       [109, 119]], dtype=int32)]'\n",
      " b'[[2, 34, 100, 44], [96, 26, 32, 96], [41, 58, 26, 42]]'\n",
      " b'[array([[ 90, 102],\\n       [ 90,  65],\\n       [109,  20],\\n       [118,  16],\\n       [121,  25],\\n       [116, 113],\\n       [117, 114]], dtype=int32)]'\n",
      " b'[array([[ 74, 101],\\n       [ 63,  33],\\n       [124,  99],\\n       [110, 121]], dtype=int32)]']\n",
      "Rect\n",
      "Rect\n",
      "Rect\n",
      "Rect\n",
      "Rect\n",
      "Rect\n",
      "Rect\n",
      "Rect\n",
      "Rect\n",
      "Rect\n",
      "Rect\n",
      "Rect\n",
      "Rect\n",
      "Rect\n",
      "Rect\n",
      "Rect\n",
      "Rect\n",
      "Rect\n",
      "Rect\n",
      "  1/100 [..............................] - ETA: 27:19 - loss: 9.6965 - rpn_class_loss: 0.1069 - rpn_bbox_loss: 2.8107 - mrcnn_class_loss: 4.5968 - mrcnn_bbox_loss: 1.4124 - mrcnn_mask_loss: 0.7697Shapes: [b'[array([[ 46, 111],\\n       [ 47,  88],\\n       [ 49,  87],\\n       [125,  66],\\n       [115,  78],\\n       [ 78, 111],\\n       [ 73, 118],\\n       [ 46, 127]], dtype=int32), [41, 15, 38, 99]]'\n",
      " b'[[40, 31, 41, 80], array([[103,  99],\\n       [ 94,  81],\\n       [123,  29],\\n       [122, 100]], dtype=int32), [79, 75, 39, 37]]'\n",
      " b'[array([[ 53, 116],\\n       [ 59,  99],\\n       [ 63,  94],\\n       [100,  97],\\n       [124, 100],\\n       [104, 112],\\n       [ 53, 120]], dtype=int32), [59, 71, 27, 28]]'\n",
      " b'[array([[ 99,  64],\\n       [ 97,  95],\\n       [  8, 112]], dtype=int32), [32, 35, 53, 88]]'\n",
      " b'[[59, 43, 26, 39], array([[ 98, 102],\\n       [ 99,  87],\\n       [111,  95],\\n       [124, 114],\\n       [123, 123]], dtype=int32), [73, 71, 38, 37]]'\n",
      " b'[array([[ 47,  75],\\n       [ 91,  54],\\n       [121, 101],\\n       [ 67, 125]], dtype=int32), [25, 82, 61, 37], [46, 22, 53, 89], array([[113, 108],\\n       [102,  83],\\n       [ 98,  73],\\n       [ 96,  54],\\n       [ 95,  38],\\n       [127, 115]], dtype=int32)]'\n",
      " b'[array([[ 91,  85],\\n       [ 93,  67],\\n       [ 99,  68],\\n       [115,  77],\\n       [121,  83],\\n       [122, 126]], dtype=int32), array([[ 84, 107],\\n       [ 84,  41],\\n       [ 91,  32],\\n       [112,  20],\\n       [124,  88],\\n       [124, 124],\\n       [ 86, 100]], dtype=int32), array([[ 19,  81],\\n       [ 36,  43],\\n       [ 69,  49],\\n       [ 73,  56],\\n       [124,  83],\\n       [114,  87],\\n       [ 36, 118]], dtype=int32)]'\n",
      " b'[[4, 1, 40, 75], [68, 88, 26, 30]]']\n",
      "Rect\n",
      "Rect\n",
      "Rect\n",
      "Rect\n",
      "Rect\n",
      "Rect\n",
      "Rect\n",
      "Rect\n",
      "Rect\n",
      "Rect\n",
      "  2/100 [..............................] - ETA: 11:04 - loss: 9.4336 - rpn_class_loss: 0.1004 - rpn_bbox_loss: 2.6071 - mrcnn_class_loss: 4.6098 - mrcnn_bbox_loss: 1.3686 - mrcnn_mask_loss: 0.7741Shapes: [b'[[21, 26, 34, 44], [37, 48, 85, 58], array([[ 87,  71],\\n       [116,  60],\\n       [ 95, 115]], dtype=int32)]'\n",
      " b'[array([[ 97, 111],\\n       [ 83,  35],\\n       [114,  24],\\n       [122,  77],\\n       [100, 106]], dtype=int32)]'\n",
      " b'[array([[ 94,  90],\\n       [103,  90],\\n       [102,  91],\\n       [113,  94],\\n       [125, 118],\\n       [123, 114],\\n       [ 93, 121]], dtype=int32), array([[ 62,  33],\\n       [ 94,  38],\\n       [121,  72],\\n       [124,  88],\\n       [ 58, 106]], dtype=int32)]'\n",
      " b'[[38, 7, 82, 51], array([[ 31,  76],\\n       [ 86,  88],\\n       [108, 124]], dtype=int32)]'\n",
      " b'[[58, 43, 35, 42], array([[ 51,  83],\\n       [ 43,  57],\\n       [ 76,  50],\\n       [100,  60],\\n       [106,  80],\\n       [120, 111]], dtype=int32)]'\n",
      " b'[[49, 36, 78, 85], array([[ 64, 127],\\n       [ 17,  94],\\n       [ 32,  90],\\n       [106,  99],\\n       [117, 106],\\n       [ 95, 117],\\n       [109, 121]], dtype=int32), [57, 44, 40, 29]]'\n",
      " b'[array([[ 97, 103],\\n       [ 60,  97],\\n       [ 54,  67],\\n       [ 48,  42],\\n       [ 62,  14],\\n       [106,  67],\\n       [118,  82],\\n       [106, 106]], dtype=int32), [86, 94, 39, 34], [15, 31, 75, 91]]'\n",
      " b'[array([[ 99,  91],\\n       [ 94,  50],\\n       [119, 125]], dtype=int32)]']\n",
      "Rect\n",
      "Rect\n",
      "Rect\n",
      "Rect\n",
      "Rect\n",
      "Rect\n",
      "Rect\n",
      "Rect\n",
      "Rect\n",
      "Rect\n",
      "Rect\n",
      "Rect\n",
      "Rect\n",
      "  3/100 [..............................] - ETA: 11:02 - loss: 9.2007 - rpn_class_loss: 0.0945 - rpn_bbox_loss: 2.3933 - mrcnn_class_loss: 4.6292 - mrcnn_bbox_loss: 1.3550 - mrcnn_mask_loss: 0.7551Shapes: [b'[array([[  8, 111],\\n       [ 12, 107],\\n       [ 48, 101],\\n       [103, 110],\\n       [102, 119],\\n       [ 20, 125]], dtype=int32), [60, 94, 31, 28], array([[ 61,  54],\\n       [ 64,  52],\\n       [ 95,  49],\\n       [121,  60],\\n       [111, 117],\\n       [ 71, 122]], dtype=int32), [0, 15, 88, 74]]'\n",
      " b'[[62, 52, 29, 40], array([[ 13, 102],\\n       [ 36,  77],\\n       [ 94,  40],\\n       [ 63, 116],\\n       [ 19, 108]], dtype=int32)]'\n",
      " b'[[78, 44, 28, 33], [41, 3, 35, 93], [0, 20, 102, 61]]'\n",
      " b'[[47, 55, 27, 28]]'\n",
      " b'[array([[ 68, 108],\\n       [ 18, 104],\\n       [ 17,  83],\\n       [107, 116]], dtype=int32), array([[ 84,  91],\\n       [ 84,  19],\\n       [ 85,   0],\\n       [ 99,  24],\\n       [114,  52],\\n       [115,  84],\\n       [121,  88],\\n       [100, 122]], dtype=int32)]'\n",
      " b'[[70, 70, 29, 39], [52, 61, 63, 64], [40, 64, 26, 36]]'\n",
      " b'[[56, 23, 42, 95], [59, 76, 39, 41]]'\n",
      " b'[[85, 64, 42, 38], [43, 72, 34, 35]]']\n",
      "Rect\n",
      "Rect\n",
      "Rect\n",
      "Rect\n",
      "Rect\n",
      "Rect\n",
      "Rect\n",
      "  4/100 [>.............................] - ETA: 11:34 - loss: 9.2344 - rpn_class_loss: 0.0972 - rpn_bbox_loss: 2.4284 - mrcnn_class_loss: 4.6201 - mrcnn_bbox_loss: 1.3543 - mrcnn_mask_loss: 0.7573Shapes: [b'[[69, 8, 52, 93], [39, 41, 39, 38], [90, 79, 28, 39]]'\n",
      " b'[array([[ 22,  56],\\n       [ 51,  59],\\n       [ 91,  62],\\n       [108,  85],\\n       [119, 114],\\n       [  6, 125]], dtype=int32), array([[ 69,  69],\\n       [ 90,  27],\\n       [ 92,  27],\\n       [115,  37],\\n       [115,  76],\\n       [ 95,  90],\\n       [ 65, 107]], dtype=int32), [61, 74, 29, 42], [7, 32, 51, 92]]'\n",
      " b'[array([[101, 113],\\n       [103,   6],\\n       [112,  24],\\n       [126,  43],\\n       [125,  72],\\n       [102, 127]], dtype=int32), array([[ 79,  51],\\n       [ 84,   3],\\n       [119,  51],\\n       [ 83,  92]], dtype=int32), [103, 83, 25, 25], array([[  8,   5],\\n       [ 41,  16],\\n       [ 77,  45],\\n       [113,  83],\\n       [114, 119]], dtype=int32)]'\n",
      " b'[array([[ 42,  95],\\n       [ 24,  73],\\n       [ 13,  34],\\n       [ 13,  31],\\n       [ 88,  43],\\n       [112, 113]], dtype=int32), [99, 77, 27, 32], [20, 24, 46, 54]]'\n",
      " b'[[10, 35, 64, 53], array([[ 44, 110],\\n       [ 74,  29],\\n       [ 86,  39],\\n       [113,  61],\\n       [104,  78],\\n       [117, 111],\\n       [ 53, 125]], dtype=int32), [29, 66, 87, 56]]'\n",
      " b'[array([[ 99, 120],\\n       [ 95, 117],\\n       [ 93, 120],\\n       [ 91, 115],\\n       [ 91, 100],\\n       [117, 124],\\n       [112, 122]], dtype=int32), [74, 13, 37, 70], [24, 23, 77, 55], array([[ 83,  95],\\n       [107,  97],\\n       [125, 100],\\n       [ 57, 118]], dtype=int32)]'\n",
      " b'[[79, 77, 35, 31]]'\n",
      " b'[[36, 51, 34, 32], array([[ 35, 102],\\n       [ 46,  69],\\n       [ 83,  70],\\n       [120,  74],\\n       [ 79, 110],\\n       [ 35, 127]], dtype=int32)]']\n",
      "Rect\n",
      "Rect\n",
      "Rect\n",
      "Rect\n",
      "  5/100 [>.............................] - ETA: 11:39 - loss: 9.2068 - rpn_class_loss: 0.1014 - rpn_bbox_loss: 2.4008 - mrcnn_class_loss: 4.6098 - mrcnn_bbox_loss: 1.3545 - mrcnn_mask_loss: 0.7619Shapes: [b'[array([[  1,  23],\\n       [ 22,  22],\\n       [100,  88],\\n       [ 91, 121]], dtype=int32), [86, 58, 26, 38]]'\n",
      " b'[array([[ 84, 104],\\n       [ 71,  91],\\n       [ 71,  71],\\n       [ 91,  48],\\n       [108,  71],\\n       [118,  92],\\n       [119, 108]], dtype=int32), [62, 91, 31, 34]]'\n",
      " b'[array([[ 65,  70],\\n       [ 75,  56],\\n       [104,  56],\\n       [110,  58],\\n       [ 96,  79],\\n       [ 90,  78],\\n       [ 52, 107]], dtype=int32), array([[ 63, 115],\\n       [ 53, 111],\\n       [ 45, 102],\\n       [ 73,  99],\\n       [119, 106],\\n       [108, 120]], dtype=int32), [51, 19, 54, 41]]'\n",
      " b'[[80, 79, 25, 39], [58, 36, 29, 29], [31, 59, 94, 39]]'\n",
      " b'[[57, 14, 61, 95], [6, 60, 79, 37]]'\n",
      " b'[[72, 92, 34, 28], [39, 7, 76, 100]]'\n",
      " b'[array([[ 98, 122],\\n       [ 96, 111],\\n       [120,  81],\\n       [119,  88],\\n       [120, 120]], dtype=int32), array([[ 15,  84],\\n       [ 26,   3],\\n       [ 45,   3],\\n       [ 93,  62],\\n       [109,  81],\\n       [102, 104]], dtype=int32), array([[ 90, 103],\\n       [ 78,  77],\\n       [ 70,  40],\\n       [ 79,  15],\\n       [ 99,   4],\\n       [123,  48],\\n       [117,  87],\\n       [ 93, 122]], dtype=int32), array([[ 50,  94],\\n       [ 81,  87],\\n       [ 98,  94],\\n       [107, 107],\\n       [121, 117],\\n       [ 81, 126]], dtype=int32)]'\n",
      " b'[[91, 86, 27, 37], [54, 42, 35, 26], [80, 91, 41, 28]]']\n",
      "Rect\n",
      "Rect\n",
      "Rect\n",
      "Rect\n"
     ]
    },
    {
     "ename": "KeyboardInterrupt",
     "evalue": "",
     "output_type": "error",
     "traceback": [
      "\u001B[0;31m---------------------------------------------------------------------------\u001B[0m",
      "\u001B[0;31mKeyboardInterrupt\u001B[0m                         Traceback (most recent call last)",
      "Cell \u001B[0;32mIn[10], line 5\u001B[0m\n\u001B[1;32m      1\u001B[0m \u001B[38;5;66;03m# Train the head branches\u001B[39;00m\n\u001B[1;32m      2\u001B[0m \u001B[38;5;66;03m# Passing layers='heads' freezes all layers except the head\u001B[39;00m\n\u001B[1;32m      3\u001B[0m \u001B[38;5;66;03m# layers. You can also pass a regular expression to selectz\u001B[39;00m\n\u001B[1;32m      4\u001B[0m \u001B[38;5;66;03m# which layers to train by name pattern.\u001B[39;00m\n\u001B[0;32m----> 5\u001B[0m \u001B[43mmodel\u001B[49m\u001B[38;5;241;43m.\u001B[39;49m\u001B[43mtrain\u001B[49m\u001B[43m(\u001B[49m\u001B[43mdataset_train\u001B[49m\u001B[43m,\u001B[49m\u001B[43m \u001B[49m\u001B[43mdataset_val\u001B[49m\u001B[43m,\u001B[49m\n\u001B[1;32m      6\u001B[0m \u001B[43m            \u001B[49m\u001B[43mlearning_rate\u001B[49m\u001B[38;5;241;43m=\u001B[39;49m\u001B[43mconfig\u001B[49m\u001B[38;5;241;43m.\u001B[39;49m\u001B[43mLEARNING_RATE\u001B[49m\u001B[43m,\u001B[49m\n\u001B[1;32m      7\u001B[0m \u001B[43m            \u001B[49m\u001B[43mepochs\u001B[49m\u001B[38;5;241;43m=\u001B[39;49m\u001B[38;5;241;43m1\u001B[39;49m\u001B[43m,\u001B[49m\n\u001B[1;32m      8\u001B[0m \u001B[43m            \u001B[49m\u001B[43mlayers\u001B[49m\u001B[38;5;241;43m=\u001B[39;49m\u001B[38;5;124;43m'\u001B[39;49m\u001B[38;5;124;43mvectors\u001B[39;49m\u001B[38;5;124;43m'\u001B[39;49m\u001B[43m)\u001B[49m\n",
      "File \u001B[0;32m~/Projects/VectorAIzer/mrcnn/model.py:2556\u001B[0m, in \u001B[0;36mMaskRCNN.train\u001B[0;34m(self, train_dataset, val_dataset, learning_rate, epochs, layers, max_queue_size, worker, verbose, augmentations, custom_callbacks, no_augmentation_sources, use_multiprocessing)\u001B[0m\n\u001B[1;32m   2553\u001B[0m     workers \u001B[38;5;241m=\u001B[39m \u001B[38;5;28mmin\u001B[39m(workers, multiprocessing\u001B[38;5;241m.\u001B[39mcpu_count())\n\u001B[1;32m   2554\u001B[0m     \u001B[38;5;28mprint\u001B[39m(\u001B[38;5;124m'\u001B[39m\u001B[38;5;124mn workers used:\u001B[39m\u001B[38;5;124m'\u001B[39m, workers)\n\u001B[0;32m-> 2556\u001B[0m \u001B[38;5;28;43mself\u001B[39;49m\u001B[38;5;241;43m.\u001B[39;49m\u001B[43mkeras_model\u001B[49m\u001B[38;5;241;43m.\u001B[39;49m\u001B[43mfit\u001B[49m\u001B[43m(\u001B[49m\n\u001B[1;32m   2557\u001B[0m \u001B[43m    \u001B[49m\u001B[43mtrain_generator\u001B[49m\u001B[43m,\u001B[49m\n\u001B[1;32m   2558\u001B[0m \u001B[43m    \u001B[49m\u001B[43minitial_epoch\u001B[49m\u001B[38;5;241;43m=\u001B[39;49m\u001B[38;5;28;43mself\u001B[39;49m\u001B[38;5;241;43m.\u001B[39;49m\u001B[43mepoch\u001B[49m\u001B[43m,\u001B[49m\n\u001B[1;32m   2559\u001B[0m \u001B[43m    \u001B[49m\u001B[43mepochs\u001B[49m\u001B[38;5;241;43m=\u001B[39;49m\u001B[43mepochs\u001B[49m\u001B[43m,\u001B[49m\n\u001B[1;32m   2560\u001B[0m \u001B[43m    \u001B[49m\u001B[43msteps_per_epoch\u001B[49m\u001B[38;5;241;43m=\u001B[39;49m\u001B[38;5;28;43mself\u001B[39;49m\u001B[38;5;241;43m.\u001B[39;49m\u001B[43mconfig\u001B[49m\u001B[38;5;241;43m.\u001B[39;49m\u001B[43mSTEPS_PER_EPOCH\u001B[49m\u001B[43m,\u001B[49m\n\u001B[1;32m   2561\u001B[0m \u001B[43m    \u001B[49m\u001B[43mcallbacks\u001B[49m\u001B[38;5;241;43m=\u001B[39;49m\u001B[43mcallbacks\u001B[49m\u001B[43m,\u001B[49m\n\u001B[1;32m   2562\u001B[0m \u001B[43m    \u001B[49m\u001B[43mvalidation_data\u001B[49m\u001B[38;5;241;43m=\u001B[39;49m\u001B[43mval_generator\u001B[49m\u001B[43m,\u001B[49m\n\u001B[1;32m   2563\u001B[0m \u001B[43m    \u001B[49m\u001B[43mvalidation_steps\u001B[49m\u001B[38;5;241;43m=\u001B[39;49m\u001B[38;5;28;43mself\u001B[39;49m\u001B[38;5;241;43m.\u001B[39;49m\u001B[43mconfig\u001B[49m\u001B[38;5;241;43m.\u001B[39;49m\u001B[43mVALIDATION_STEPS\u001B[49m\u001B[43m,\u001B[49m\n\u001B[1;32m   2564\u001B[0m \u001B[43m    \u001B[49m\u001B[43mmax_queue_size\u001B[49m\u001B[38;5;241;43m=\u001B[39;49m\u001B[43mmax_queue_size\u001B[49m\u001B[43m,\u001B[49m\n\u001B[1;32m   2565\u001B[0m \u001B[43m    \u001B[49m\u001B[43mworkers\u001B[49m\u001B[38;5;241;43m=\u001B[39;49m\u001B[43mworkers\u001B[49m\u001B[43m,\u001B[49m\n\u001B[1;32m   2566\u001B[0m \u001B[43m    \u001B[49m\u001B[43mverbose\u001B[49m\u001B[38;5;241;43m=\u001B[39;49m\u001B[43mverbose\u001B[49m\u001B[43m,\u001B[49m\n\u001B[1;32m   2567\u001B[0m \u001B[43m    \u001B[49m\u001B[43muse_multiprocessing\u001B[49m\u001B[38;5;241;43m=\u001B[39;49m\u001B[43muse_multiprocessing\u001B[49m\n\u001B[1;32m   2568\u001B[0m \u001B[43m\u001B[49m\u001B[43m)\u001B[49m\n\u001B[1;32m   2570\u001B[0m \u001B[38;5;28mself\u001B[39m\u001B[38;5;241m.\u001B[39mepoch \u001B[38;5;241m=\u001B[39m \u001B[38;5;28mmax\u001B[39m(\u001B[38;5;28mself\u001B[39m\u001B[38;5;241m.\u001B[39mepoch, epochs)\n",
      "File \u001B[0;32m~/Projects/VectorAIzer/venv/lib/python3.8/site-packages/keras/utils/traceback_utils.py:64\u001B[0m, in \u001B[0;36mfilter_traceback.<locals>.error_handler\u001B[0;34m(*args, **kwargs)\u001B[0m\n\u001B[1;32m     62\u001B[0m filtered_tb \u001B[38;5;241m=\u001B[39m \u001B[38;5;28;01mNone\u001B[39;00m\n\u001B[1;32m     63\u001B[0m \u001B[38;5;28;01mtry\u001B[39;00m:\n\u001B[0;32m---> 64\u001B[0m   \u001B[38;5;28;01mreturn\u001B[39;00m \u001B[43mfn\u001B[49m\u001B[43m(\u001B[49m\u001B[38;5;241;43m*\u001B[39;49m\u001B[43margs\u001B[49m\u001B[43m,\u001B[49m\u001B[43m \u001B[49m\u001B[38;5;241;43m*\u001B[39;49m\u001B[38;5;241;43m*\u001B[39;49m\u001B[43mkwargs\u001B[49m\u001B[43m)\u001B[49m\n\u001B[1;32m     65\u001B[0m \u001B[38;5;28;01mexcept\u001B[39;00m \u001B[38;5;167;01mException\u001B[39;00m \u001B[38;5;28;01mas\u001B[39;00m e:  \u001B[38;5;66;03m# pylint: disable=broad-except\u001B[39;00m\n\u001B[1;32m     66\u001B[0m   filtered_tb \u001B[38;5;241m=\u001B[39m _process_traceback_frames(e\u001B[38;5;241m.\u001B[39m__traceback__)\n",
      "File \u001B[0;32m~/Projects/VectorAIzer/venv/lib/python3.8/site-packages/keras/engine/training.py:1409\u001B[0m, in \u001B[0;36mModel.fit\u001B[0;34m(self, x, y, batch_size, epochs, verbose, callbacks, validation_split, validation_data, shuffle, class_weight, sample_weight, initial_epoch, steps_per_epoch, validation_steps, validation_batch_size, validation_freq, max_queue_size, workers, use_multiprocessing)\u001B[0m\n\u001B[1;32m   1402\u001B[0m \u001B[38;5;28;01mwith\u001B[39;00m tf\u001B[38;5;241m.\u001B[39mprofiler\u001B[38;5;241m.\u001B[39mexperimental\u001B[38;5;241m.\u001B[39mTrace(\n\u001B[1;32m   1403\u001B[0m     \u001B[38;5;124m'\u001B[39m\u001B[38;5;124mtrain\u001B[39m\u001B[38;5;124m'\u001B[39m,\n\u001B[1;32m   1404\u001B[0m     epoch_num\u001B[38;5;241m=\u001B[39mepoch,\n\u001B[1;32m   1405\u001B[0m     step_num\u001B[38;5;241m=\u001B[39mstep,\n\u001B[1;32m   1406\u001B[0m     batch_size\u001B[38;5;241m=\u001B[39mbatch_size,\n\u001B[1;32m   1407\u001B[0m     _r\u001B[38;5;241m=\u001B[39m\u001B[38;5;241m1\u001B[39m):\n\u001B[1;32m   1408\u001B[0m   callbacks\u001B[38;5;241m.\u001B[39mon_train_batch_begin(step)\n\u001B[0;32m-> 1409\u001B[0m   tmp_logs \u001B[38;5;241m=\u001B[39m \u001B[38;5;28;43mself\u001B[39;49m\u001B[38;5;241;43m.\u001B[39;49m\u001B[43mtrain_function\u001B[49m\u001B[43m(\u001B[49m\u001B[43miterator\u001B[49m\u001B[43m)\u001B[49m\n\u001B[1;32m   1410\u001B[0m   \u001B[38;5;28;01mif\u001B[39;00m data_handler\u001B[38;5;241m.\u001B[39mshould_sync:\n\u001B[1;32m   1411\u001B[0m     context\u001B[38;5;241m.\u001B[39masync_wait()\n",
      "File \u001B[0;32m~/Projects/VectorAIzer/venv/lib/python3.8/site-packages/keras/engine/training.py:1051\u001B[0m, in \u001B[0;36mModel.make_train_function.<locals>.train_function\u001B[0;34m(iterator)\u001B[0m\n\u001B[1;32m   1049\u001B[0m \u001B[38;5;28;01mdef\u001B[39;00m \u001B[38;5;21mtrain_function\u001B[39m(iterator):\n\u001B[1;32m   1050\u001B[0m   \u001B[38;5;124;03m\"\"\"Runs a training execution with a single step.\"\"\"\u001B[39;00m\n\u001B[0;32m-> 1051\u001B[0m   \u001B[38;5;28;01mreturn\u001B[39;00m \u001B[43mstep_function\u001B[49m\u001B[43m(\u001B[49m\u001B[38;5;28;43mself\u001B[39;49m\u001B[43m,\u001B[49m\u001B[43m \u001B[49m\u001B[43miterator\u001B[49m\u001B[43m)\u001B[49m\n",
      "File \u001B[0;32m~/Projects/VectorAIzer/venv/lib/python3.8/site-packages/keras/engine/training.py:1040\u001B[0m, in \u001B[0;36mModel.make_train_function.<locals>.step_function\u001B[0;34m(model, iterator)\u001B[0m\n\u001B[1;32m   1037\u001B[0m   run_step \u001B[38;5;241m=\u001B[39m tf\u001B[38;5;241m.\u001B[39mfunction(\n\u001B[1;32m   1038\u001B[0m       run_step, jit_compile\u001B[38;5;241m=\u001B[39m\u001B[38;5;28;01mTrue\u001B[39;00m, reduce_retracing\u001B[38;5;241m=\u001B[39m\u001B[38;5;28;01mTrue\u001B[39;00m)\n\u001B[1;32m   1039\u001B[0m data \u001B[38;5;241m=\u001B[39m \u001B[38;5;28mnext\u001B[39m(iterator)\n\u001B[0;32m-> 1040\u001B[0m outputs \u001B[38;5;241m=\u001B[39m \u001B[43mmodel\u001B[49m\u001B[38;5;241;43m.\u001B[39;49m\u001B[43mdistribute_strategy\u001B[49m\u001B[38;5;241;43m.\u001B[39;49m\u001B[43mrun\u001B[49m\u001B[43m(\u001B[49m\u001B[43mrun_step\u001B[49m\u001B[43m,\u001B[49m\u001B[43m \u001B[49m\u001B[43margs\u001B[49m\u001B[38;5;241;43m=\u001B[39;49m\u001B[43m(\u001B[49m\u001B[43mdata\u001B[49m\u001B[43m,\u001B[49m\u001B[43m)\u001B[49m\u001B[43m)\u001B[49m\n\u001B[1;32m   1041\u001B[0m outputs \u001B[38;5;241m=\u001B[39m reduce_per_replica(\n\u001B[1;32m   1042\u001B[0m     outputs, \u001B[38;5;28mself\u001B[39m\u001B[38;5;241m.\u001B[39mdistribute_strategy, reduction\u001B[38;5;241m=\u001B[39m\u001B[38;5;124m'\u001B[39m\u001B[38;5;124mfirst\u001B[39m\u001B[38;5;124m'\u001B[39m)\n\u001B[1;32m   1043\u001B[0m \u001B[38;5;28;01mreturn\u001B[39;00m outputs\n",
      "File \u001B[0;32m~/Projects/VectorAIzer/venv/lib/python3.8/site-packages/tensorflow/python/distribute/distribute_lib.py:1316\u001B[0m, in \u001B[0;36mStrategyBase.run\u001B[0;34m(***failed resolving arguments***)\u001B[0m\n\u001B[1;32m   1311\u001B[0m \u001B[38;5;28;01mwith\u001B[39;00m \u001B[38;5;28mself\u001B[39m\u001B[38;5;241m.\u001B[39mscope():\n\u001B[1;32m   1312\u001B[0m   \u001B[38;5;66;03m# tf.distribute supports Eager functions, so AutoGraph should not be\u001B[39;00m\n\u001B[1;32m   1313\u001B[0m   \u001B[38;5;66;03m# applied when the caller is also in Eager mode.\u001B[39;00m\n\u001B[1;32m   1314\u001B[0m   fn \u001B[38;5;241m=\u001B[39m autograph\u001B[38;5;241m.\u001B[39mtf_convert(\n\u001B[1;32m   1315\u001B[0m       fn, autograph_ctx\u001B[38;5;241m.\u001B[39mcontrol_status_ctx(), convert_by_default\u001B[38;5;241m=\u001B[39m\u001B[38;5;28;01mFalse\u001B[39;00m)\n\u001B[0;32m-> 1316\u001B[0m   \u001B[38;5;28;01mreturn\u001B[39;00m \u001B[38;5;28;43mself\u001B[39;49m\u001B[38;5;241;43m.\u001B[39;49m\u001B[43m_extended\u001B[49m\u001B[38;5;241;43m.\u001B[39;49m\u001B[43mcall_for_each_replica\u001B[49m\u001B[43m(\u001B[49m\u001B[43mfn\u001B[49m\u001B[43m,\u001B[49m\u001B[43m \u001B[49m\u001B[43margs\u001B[49m\u001B[38;5;241;43m=\u001B[39;49m\u001B[43margs\u001B[49m\u001B[43m,\u001B[49m\u001B[43m \u001B[49m\u001B[43mkwargs\u001B[49m\u001B[38;5;241;43m=\u001B[39;49m\u001B[43mkwargs\u001B[49m\u001B[43m)\u001B[49m\n",
      "File \u001B[0;32m~/Projects/VectorAIzer/venv/lib/python3.8/site-packages/tensorflow/python/distribute/distribute_lib.py:2895\u001B[0m, in \u001B[0;36mStrategyExtendedV1.call_for_each_replica\u001B[0;34m(self, fn, args, kwargs)\u001B[0m\n\u001B[1;32m   2893\u001B[0m   kwargs \u001B[38;5;241m=\u001B[39m {}\n\u001B[1;32m   2894\u001B[0m \u001B[38;5;28;01mwith\u001B[39;00m \u001B[38;5;28mself\u001B[39m\u001B[38;5;241m.\u001B[39m_container_strategy()\u001B[38;5;241m.\u001B[39mscope():\n\u001B[0;32m-> 2895\u001B[0m   \u001B[38;5;28;01mreturn\u001B[39;00m \u001B[38;5;28;43mself\u001B[39;49m\u001B[38;5;241;43m.\u001B[39;49m\u001B[43m_call_for_each_replica\u001B[49m\u001B[43m(\u001B[49m\u001B[43mfn\u001B[49m\u001B[43m,\u001B[49m\u001B[43m \u001B[49m\u001B[43margs\u001B[49m\u001B[43m,\u001B[49m\u001B[43m \u001B[49m\u001B[43mkwargs\u001B[49m\u001B[43m)\u001B[49m\n",
      "File \u001B[0;32m~/Projects/VectorAIzer/venv/lib/python3.8/site-packages/tensorflow/python/distribute/distribute_lib.py:3696\u001B[0m, in \u001B[0;36m_DefaultDistributionExtended._call_for_each_replica\u001B[0;34m(self, fn, args, kwargs)\u001B[0m\n\u001B[1;32m   3694\u001B[0m \u001B[38;5;28;01mdef\u001B[39;00m \u001B[38;5;21m_call_for_each_replica\u001B[39m(\u001B[38;5;28mself\u001B[39m, fn, args, kwargs):\n\u001B[1;32m   3695\u001B[0m   \u001B[38;5;28;01mwith\u001B[39;00m ReplicaContext(\u001B[38;5;28mself\u001B[39m\u001B[38;5;241m.\u001B[39m_container_strategy(), replica_id_in_sync_group\u001B[38;5;241m=\u001B[39m\u001B[38;5;241m0\u001B[39m):\n\u001B[0;32m-> 3696\u001B[0m     \u001B[38;5;28;01mreturn\u001B[39;00m \u001B[43mfn\u001B[49m\u001B[43m(\u001B[49m\u001B[38;5;241;43m*\u001B[39;49m\u001B[43margs\u001B[49m\u001B[43m,\u001B[49m\u001B[43m \u001B[49m\u001B[38;5;241;43m*\u001B[39;49m\u001B[38;5;241;43m*\u001B[39;49m\u001B[43mkwargs\u001B[49m\u001B[43m)\u001B[49m\n",
      "File \u001B[0;32m~/Projects/VectorAIzer/venv/lib/python3.8/site-packages/tensorflow/python/autograph/impl/api.py:595\u001B[0m, in \u001B[0;36mcall_with_unspecified_conversion_status.<locals>.wrapper\u001B[0;34m(*args, **kwargs)\u001B[0m\n\u001B[1;32m    593\u001B[0m \u001B[38;5;28;01mdef\u001B[39;00m \u001B[38;5;21mwrapper\u001B[39m(\u001B[38;5;241m*\u001B[39margs, \u001B[38;5;241m*\u001B[39m\u001B[38;5;241m*\u001B[39mkwargs):\n\u001B[1;32m    594\u001B[0m   \u001B[38;5;28;01mwith\u001B[39;00m ag_ctx\u001B[38;5;241m.\u001B[39mControlStatusCtx(status\u001B[38;5;241m=\u001B[39mag_ctx\u001B[38;5;241m.\u001B[39mStatus\u001B[38;5;241m.\u001B[39mUNSPECIFIED):\n\u001B[0;32m--> 595\u001B[0m     \u001B[38;5;28;01mreturn\u001B[39;00m \u001B[43mfunc\u001B[49m\u001B[43m(\u001B[49m\u001B[38;5;241;43m*\u001B[39;49m\u001B[43margs\u001B[49m\u001B[43m,\u001B[49m\u001B[43m \u001B[49m\u001B[38;5;241;43m*\u001B[39;49m\u001B[38;5;241;43m*\u001B[39;49m\u001B[43mkwargs\u001B[49m\u001B[43m)\u001B[49m\n",
      "File \u001B[0;32m~/Projects/VectorAIzer/venv/lib/python3.8/site-packages/keras/engine/training.py:1030\u001B[0m, in \u001B[0;36mModel.make_train_function.<locals>.step_function.<locals>.run_step\u001B[0;34m(data)\u001B[0m\n\u001B[1;32m   1029\u001B[0m \u001B[38;5;28;01mdef\u001B[39;00m \u001B[38;5;21mrun_step\u001B[39m(data):\n\u001B[0;32m-> 1030\u001B[0m   outputs \u001B[38;5;241m=\u001B[39m \u001B[43mmodel\u001B[49m\u001B[38;5;241;43m.\u001B[39;49m\u001B[43mtrain_step\u001B[49m\u001B[43m(\u001B[49m\u001B[43mdata\u001B[49m\u001B[43m)\u001B[49m\n\u001B[1;32m   1031\u001B[0m   \u001B[38;5;66;03m# Ensure counter is updated only if `train_step` succeeds.\u001B[39;00m\n\u001B[1;32m   1032\u001B[0m   \u001B[38;5;28;01mwith\u001B[39;00m tf\u001B[38;5;241m.\u001B[39mcontrol_dependencies(_minimum_control_deps(outputs)):\n",
      "File \u001B[0;32m~/Projects/VectorAIzer/mrcnn/model.py:2174\u001B[0m, in \u001B[0;36mMaskRCNN.build.<locals>.MaskRCNN_TF2.train_step\u001B[0;34m(self, data)\u001B[0m\n\u001B[1;32m   2172\u001B[0m \u001B[38;5;66;03m# Compute gradients\u001B[39;00m\n\u001B[1;32m   2173\u001B[0m trainable_vars \u001B[38;5;241m=\u001B[39m \u001B[38;5;28mself\u001B[39m\u001B[38;5;241m.\u001B[39mtrainable_variables\n\u001B[0;32m-> 2174\u001B[0m gradients \u001B[38;5;241m=\u001B[39m \u001B[43mtape\u001B[49m\u001B[38;5;241;43m.\u001B[39;49m\u001B[43mgradient\u001B[49m\u001B[43m(\u001B[49m\u001B[43mloss\u001B[49m\u001B[43m,\u001B[49m\u001B[43m \u001B[49m\u001B[43mtrainable_vars\u001B[49m\u001B[43m)\u001B[49m\n\u001B[1;32m   2175\u001B[0m \u001B[38;5;66;03m# Update weights\u001B[39;00m\n\u001B[1;32m   2176\u001B[0m \u001B[38;5;28mself\u001B[39m\u001B[38;5;241m.\u001B[39moptimizer\u001B[38;5;241m.\u001B[39mapply_gradients(\u001B[38;5;28mzip\u001B[39m(gradients, trainable_vars))\n",
      "File \u001B[0;32m~/Projects/VectorAIzer/venv/lib/python3.8/site-packages/tensorflow/python/eager/backprop.py:1112\u001B[0m, in \u001B[0;36mGradientTape.gradient\u001B[0;34m(self, target, sources, output_gradients, unconnected_gradients)\u001B[0m\n\u001B[1;32m   1106\u001B[0m   output_gradients \u001B[38;5;241m=\u001B[39m (\n\u001B[1;32m   1107\u001B[0m       composite_tensor_gradient\u001B[38;5;241m.\u001B[39mget_flat_tensors_for_gradients(\n\u001B[1;32m   1108\u001B[0m           output_gradients))\n\u001B[1;32m   1109\u001B[0m   output_gradients \u001B[38;5;241m=\u001B[39m [\u001B[38;5;28;01mNone\u001B[39;00m \u001B[38;5;28;01mif\u001B[39;00m x \u001B[38;5;129;01mis\u001B[39;00m \u001B[38;5;28;01mNone\u001B[39;00m \u001B[38;5;28;01melse\u001B[39;00m ops\u001B[38;5;241m.\u001B[39mconvert_to_tensor(x)\n\u001B[1;32m   1110\u001B[0m                       \u001B[38;5;28;01mfor\u001B[39;00m x \u001B[38;5;129;01min\u001B[39;00m output_gradients]\n\u001B[0;32m-> 1112\u001B[0m flat_grad \u001B[38;5;241m=\u001B[39m \u001B[43mimperative_grad\u001B[49m\u001B[38;5;241;43m.\u001B[39;49m\u001B[43mimperative_grad\u001B[49m\u001B[43m(\u001B[49m\n\u001B[1;32m   1113\u001B[0m \u001B[43m    \u001B[49m\u001B[38;5;28;43mself\u001B[39;49m\u001B[38;5;241;43m.\u001B[39;49m\u001B[43m_tape\u001B[49m\u001B[43m,\u001B[49m\n\u001B[1;32m   1114\u001B[0m \u001B[43m    \u001B[49m\u001B[43mflat_targets\u001B[49m\u001B[43m,\u001B[49m\n\u001B[1;32m   1115\u001B[0m \u001B[43m    \u001B[49m\u001B[43mflat_sources\u001B[49m\u001B[43m,\u001B[49m\n\u001B[1;32m   1116\u001B[0m \u001B[43m    \u001B[49m\u001B[43moutput_gradients\u001B[49m\u001B[38;5;241;43m=\u001B[39;49m\u001B[43moutput_gradients\u001B[49m\u001B[43m,\u001B[49m\n\u001B[1;32m   1117\u001B[0m \u001B[43m    \u001B[49m\u001B[43msources_raw\u001B[49m\u001B[38;5;241;43m=\u001B[39;49m\u001B[43mflat_sources_raw\u001B[49m\u001B[43m,\u001B[49m\n\u001B[1;32m   1118\u001B[0m \u001B[43m    \u001B[49m\u001B[43munconnected_gradients\u001B[49m\u001B[38;5;241;43m=\u001B[39;49m\u001B[43munconnected_gradients\u001B[49m\u001B[43m)\u001B[49m\n\u001B[1;32m   1120\u001B[0m \u001B[38;5;28;01mif\u001B[39;00m \u001B[38;5;129;01mnot\u001B[39;00m \u001B[38;5;28mself\u001B[39m\u001B[38;5;241m.\u001B[39m_persistent:\n\u001B[1;32m   1121\u001B[0m   \u001B[38;5;66;03m# Keep track of watched variables before setting tape to None\u001B[39;00m\n\u001B[1;32m   1122\u001B[0m   \u001B[38;5;28mself\u001B[39m\u001B[38;5;241m.\u001B[39m_watched_variables \u001B[38;5;241m=\u001B[39m \u001B[38;5;28mself\u001B[39m\u001B[38;5;241m.\u001B[39m_tape\u001B[38;5;241m.\u001B[39mwatched_variables()\n",
      "File \u001B[0;32m~/Projects/VectorAIzer/venv/lib/python3.8/site-packages/tensorflow/python/eager/imperative_grad.py:67\u001B[0m, in \u001B[0;36mimperative_grad\u001B[0;34m(tape, target, sources, output_gradients, sources_raw, unconnected_gradients)\u001B[0m\n\u001B[1;32m     63\u001B[0m \u001B[38;5;28;01mexcept\u001B[39;00m \u001B[38;5;167;01mValueError\u001B[39;00m:\n\u001B[1;32m     64\u001B[0m   \u001B[38;5;28;01mraise\u001B[39;00m \u001B[38;5;167;01mValueError\u001B[39;00m(\n\u001B[1;32m     65\u001B[0m       \u001B[38;5;124m\"\u001B[39m\u001B[38;5;124mUnknown value for unconnected_gradients: \u001B[39m\u001B[38;5;132;01m%r\u001B[39;00m\u001B[38;5;124m\"\u001B[39m \u001B[38;5;241m%\u001B[39m unconnected_gradients)\n\u001B[0;32m---> 67\u001B[0m \u001B[38;5;28;01mreturn\u001B[39;00m \u001B[43mpywrap_tfe\u001B[49m\u001B[38;5;241;43m.\u001B[39;49m\u001B[43mTFE_Py_TapeGradient\u001B[49m\u001B[43m(\u001B[49m\n\u001B[1;32m     68\u001B[0m \u001B[43m    \u001B[49m\u001B[43mtape\u001B[49m\u001B[38;5;241;43m.\u001B[39;49m\u001B[43m_tape\u001B[49m\u001B[43m,\u001B[49m\u001B[43m  \u001B[49m\u001B[38;5;66;43;03m# pylint: disable=protected-access\u001B[39;49;00m\n\u001B[1;32m     69\u001B[0m \u001B[43m    \u001B[49m\u001B[43mtarget\u001B[49m\u001B[43m,\u001B[49m\n\u001B[1;32m     70\u001B[0m \u001B[43m    \u001B[49m\u001B[43msources\u001B[49m\u001B[43m,\u001B[49m\n\u001B[1;32m     71\u001B[0m \u001B[43m    \u001B[49m\u001B[43moutput_gradients\u001B[49m\u001B[43m,\u001B[49m\n\u001B[1;32m     72\u001B[0m \u001B[43m    \u001B[49m\u001B[43msources_raw\u001B[49m\u001B[43m,\u001B[49m\n\u001B[1;32m     73\u001B[0m \u001B[43m    \u001B[49m\u001B[43mcompat\u001B[49m\u001B[38;5;241;43m.\u001B[39;49m\u001B[43mas_str\u001B[49m\u001B[43m(\u001B[49m\u001B[43munconnected_gradients\u001B[49m\u001B[38;5;241;43m.\u001B[39;49m\u001B[43mvalue\u001B[49m\u001B[43m)\u001B[49m\u001B[43m)\u001B[49m\n",
      "File \u001B[0;32m~/Projects/VectorAIzer/venv/lib/python3.8/site-packages/tensorflow/python/eager/backprop.py:157\u001B[0m, in \u001B[0;36m_gradient_function\u001B[0;34m(op_name, attr_tuple, num_inputs, inputs, outputs, out_grads, skip_input_indices, forward_pass_name_scope)\u001B[0m\n\u001B[1;32m    155\u001B[0m     gradient_name_scope \u001B[38;5;241m+\u001B[39m\u001B[38;5;241m=\u001B[39m forward_pass_name_scope \u001B[38;5;241m+\u001B[39m \u001B[38;5;124m\"\u001B[39m\u001B[38;5;124m/\u001B[39m\u001B[38;5;124m\"\u001B[39m\n\u001B[1;32m    156\u001B[0m   \u001B[38;5;28;01mwith\u001B[39;00m ops\u001B[38;5;241m.\u001B[39mname_scope(gradient_name_scope):\n\u001B[0;32m--> 157\u001B[0m     \u001B[38;5;28;01mreturn\u001B[39;00m \u001B[43mgrad_fn\u001B[49m\u001B[43m(\u001B[49m\u001B[43mmock_op\u001B[49m\u001B[43m,\u001B[49m\u001B[43m \u001B[49m\u001B[38;5;241;43m*\u001B[39;49m\u001B[43mout_grads\u001B[49m\u001B[43m)\u001B[49m\n\u001B[1;32m    158\u001B[0m \u001B[38;5;28;01melse\u001B[39;00m:\n\u001B[1;32m    159\u001B[0m   \u001B[38;5;28;01mreturn\u001B[39;00m grad_fn(mock_op, \u001B[38;5;241m*\u001B[39mout_grads)\n",
      "File \u001B[0;32m~/Projects/VectorAIzer/venv/lib/python3.8/site-packages/tensorflow/python/ops/nn_grad.py:925\u001B[0m, in \u001B[0;36m_FusedBatchNormV3Grad\u001B[0;34m(op, *grad)\u001B[0m\n\u001B[1;32m    923\u001B[0m \u001B[38;5;129m@ops\u001B[39m\u001B[38;5;241m.\u001B[39mRegisterGradient(\u001B[38;5;124m\"\u001B[39m\u001B[38;5;124mFusedBatchNormV3\u001B[39m\u001B[38;5;124m\"\u001B[39m)\n\u001B[1;32m    924\u001B[0m \u001B[38;5;28;01mdef\u001B[39;00m \u001B[38;5;21m_FusedBatchNormV3Grad\u001B[39m(op, \u001B[38;5;241m*\u001B[39mgrad):\n\u001B[0;32m--> 925\u001B[0m   \u001B[38;5;28;01mreturn\u001B[39;00m \u001B[43m_BaseFusedBatchNormGrad\u001B[49m\u001B[43m(\u001B[49m\u001B[43mop\u001B[49m\u001B[43m,\u001B[49m\u001B[43m \u001B[49m\u001B[38;5;241;43m2\u001B[39;49m\u001B[43m,\u001B[49m\u001B[43m \u001B[49m\u001B[38;5;241;43m*\u001B[39;49m\u001B[43mgrad\u001B[49m\u001B[43m)\u001B[49m\n",
      "File \u001B[0;32m~/Projects/VectorAIzer/venv/lib/python3.8/site-packages/tensorflow/python/ops/nn_grad.py:905\u001B[0m, in \u001B[0;36m_BaseFusedBatchNormGrad\u001B[0;34m(op, version, *grad)\u001B[0m\n\u001B[1;32m    903\u001B[0m \u001B[38;5;28;01mif\u001B[39;00m version \u001B[38;5;241m==\u001B[39m \u001B[38;5;241m2\u001B[39m:\n\u001B[1;32m    904\u001B[0m   args[\u001B[38;5;124m\"\u001B[39m\u001B[38;5;124mreserve_space_3\u001B[39m\u001B[38;5;124m\"\u001B[39m] \u001B[38;5;241m=\u001B[39m op\u001B[38;5;241m.\u001B[39moutputs[\u001B[38;5;241m5\u001B[39m]\n\u001B[0;32m--> 905\u001B[0m dx, dscale, doffset, _, _ \u001B[38;5;241m=\u001B[39m \u001B[43mgrad_fun\u001B[49m\u001B[43m(\u001B[49m\u001B[38;5;241;43m*\u001B[39;49m\u001B[38;5;241;43m*\u001B[39;49m\u001B[43margs\u001B[49m\u001B[43m)\u001B[49m\n\u001B[1;32m    906\u001B[0m \u001B[38;5;28;01mif\u001B[39;00m data_format \u001B[38;5;241m==\u001B[39m \u001B[38;5;124mb\u001B[39m\u001B[38;5;124m\"\u001B[39m\u001B[38;5;124mNCHW\u001B[39m\u001B[38;5;124m\"\u001B[39m:\n\u001B[1;32m    907\u001B[0m   dx \u001B[38;5;241m=\u001B[39m array_ops\u001B[38;5;241m.\u001B[39mtranspose(dx, [\u001B[38;5;241m0\u001B[39m, \u001B[38;5;241m3\u001B[39m, \u001B[38;5;241m1\u001B[39m, \u001B[38;5;241m2\u001B[39m])\n",
      "File \u001B[0;32m~/Projects/VectorAIzer/venv/lib/python3.8/site-packages/tensorflow/python/ops/gen_nn_ops.py:4223\u001B[0m, in \u001B[0;36mfused_batch_norm_grad_v3\u001B[0;34m(y_backprop, x, scale, reserve_space_1, reserve_space_2, reserve_space_3, epsilon, data_format, is_training, name)\u001B[0m\n\u001B[1;32m   4221\u001B[0m \u001B[38;5;28;01mif\u001B[39;00m tld\u001B[38;5;241m.\u001B[39mis_eager:\n\u001B[1;32m   4222\u001B[0m   \u001B[38;5;28;01mtry\u001B[39;00m:\n\u001B[0;32m-> 4223\u001B[0m     _result \u001B[38;5;241m=\u001B[39m \u001B[43mpywrap_tfe\u001B[49m\u001B[38;5;241;43m.\u001B[39;49m\u001B[43mTFE_Py_FastPathExecute\u001B[49m\u001B[43m(\u001B[49m\n\u001B[1;32m   4224\u001B[0m \u001B[43m      \u001B[49m\u001B[43m_ctx\u001B[49m\u001B[43m,\u001B[49m\u001B[43m \u001B[49m\u001B[38;5;124;43m\"\u001B[39;49m\u001B[38;5;124;43mFusedBatchNormGradV3\u001B[39;49m\u001B[38;5;124;43m\"\u001B[39;49m\u001B[43m,\u001B[49m\u001B[43m \u001B[49m\u001B[43mname\u001B[49m\u001B[43m,\u001B[49m\u001B[43m \u001B[49m\u001B[43my_backprop\u001B[49m\u001B[43m,\u001B[49m\u001B[43m \u001B[49m\u001B[43mx\u001B[49m\u001B[43m,\u001B[49m\u001B[43m \u001B[49m\u001B[43mscale\u001B[49m\u001B[43m,\u001B[49m\n\u001B[1;32m   4225\u001B[0m \u001B[43m      \u001B[49m\u001B[43mreserve_space_1\u001B[49m\u001B[43m,\u001B[49m\u001B[43m \u001B[49m\u001B[43mreserve_space_2\u001B[49m\u001B[43m,\u001B[49m\u001B[43m \u001B[49m\u001B[43mreserve_space_3\u001B[49m\u001B[43m,\u001B[49m\u001B[43m \u001B[49m\u001B[38;5;124;43m\"\u001B[39;49m\u001B[38;5;124;43mepsilon\u001B[39;49m\u001B[38;5;124;43m\"\u001B[39;49m\u001B[43m,\u001B[49m\u001B[43m \u001B[49m\u001B[43mepsilon\u001B[49m\u001B[43m,\u001B[49m\n\u001B[1;32m   4226\u001B[0m \u001B[43m      \u001B[49m\u001B[38;5;124;43m\"\u001B[39;49m\u001B[38;5;124;43mdata_format\u001B[39;49m\u001B[38;5;124;43m\"\u001B[39;49m\u001B[43m,\u001B[49m\u001B[43m \u001B[49m\u001B[43mdata_format\u001B[49m\u001B[43m,\u001B[49m\u001B[43m \u001B[49m\u001B[38;5;124;43m\"\u001B[39;49m\u001B[38;5;124;43mis_training\u001B[39;49m\u001B[38;5;124;43m\"\u001B[39;49m\u001B[43m,\u001B[49m\u001B[43m \u001B[49m\u001B[43mis_training\u001B[49m\u001B[43m)\u001B[49m\n\u001B[1;32m   4227\u001B[0m     _result \u001B[38;5;241m=\u001B[39m _FusedBatchNormGradV3Output\u001B[38;5;241m.\u001B[39m_make(_result)\n\u001B[1;32m   4228\u001B[0m     \u001B[38;5;28;01mreturn\u001B[39;00m _result\n",
      "\u001B[0;31mKeyboardInterrupt\u001B[0m: "
     ]
    }
   ],
   "source": [
    "# Train the head branches\n",
    "# Passing layers='heads' freezes all layers except the head\n",
    "# layers. You can also pass a regular expression to selectz\n",
    "# which layers to train by name pattern.\n",
    "model.train(dataset_train, dataset_val,\n",
    "            learning_rate=config.LEARNING_RATE,\n",
    "            epochs=1,\n",
    "            layers='vectors')"
   ]
  },
  {
   "cell_type": "code",
   "execution_count": null,
   "metadata": {
    "collapsed": true,
    "id": "0LZgtXBZjfGJ"
   },
   "outputs": [],
   "source": [
    "# Save weights\n",
    "# Typically not needed because callbacks save after every epoch\n",
    "# Uncomment to save manually\n",
    "model_path = os.path.join(MODEL_DIR, 'mask_rcnn_shapes.h5')\n",
    "model.keras_model.save_weights(model_path)"
   ]
  },
  {
   "cell_type": "markdown",
   "metadata": {
    "id": "Jhgc87-SjfGJ"
   },
   "source": [
    "## Detection"
   ]
  },
  {
   "cell_type": "code",
   "execution_count": null,
   "metadata": {
    "collapsed": true,
    "id": "kCfeFHeFjfGK"
   },
   "outputs": [],
   "source": [
    "class InferenceConfig(ShapesConfig):\n",
    "    GPU_COUNT = 1\n",
    "    IMAGES_PER_GPU = 1\n",
    "\n",
    "\n",
    "inference_config = InferenceConfig()\n",
    "\n",
    "# Recreate the model in inference mode\n",
    "model = modellib.MaskRCNN(mode='inference',\n",
    "                          config=inference_config,\n",
    "                          model_dir=MODEL_DIR)\n",
    "\n",
    "# Get path to saved weights\n",
    "# Either set a specific path or find last trained weights\n",
    "# model_path = os.path.join(ROOT_DIR, '.h5 file name here')\n",
    "model_path = model.find_last()\n",
    "\n",
    "# Load trained weights\n",
    "print('Loading weights from ', model_path)\n",
    "model.load_weights(model_path, by_name=True)"
   ]
  },
  {
   "cell_type": "code",
   "execution_count": null,
   "metadata": {
    "id": "aEk-y4wsjfGK"
   },
   "outputs": [],
   "source": [
    "# Test on a random image\n",
    "_image_id = random.choice(dataset_val.image_ids)\n",
    "original_image, image_meta, gt_class_id, gt_bbox, gt_mask = modellib.load_image_gt(dataset_val, inference_config,\n",
    "                                                                                   _image_id)\n",
    "\n",
    "log('original_image', original_image)\n",
    "log('image_meta', image_meta)\n",
    "log('gt_class_id', gt_class_id)\n",
    "log('gt_bbox', gt_bbox)\n",
    "log('gt_mask', gt_mask)\n",
    "\n",
    "visualize.display_instances(original_image, gt_bbox, gt_mask, gt_class_id,\n",
    "                            dataset_train.class_names, figsize=(8, 8))"
   ]
  },
  {
   "cell_type": "code",
   "execution_count": null,
   "metadata": {
    "id": "ra0wLKAkjfGL"
   },
   "outputs": [],
   "source": [
    "results = model.detect([original_image], verbose=1)\n",
    "\n",
    "r = results[0]\n",
    "visualize.display_instances(original_image, r['rois'], r['masks'], r['class_ids'],\n",
    "                            dataset_val.class_names, r['scores'], ax=get_ax())"
   ]
  },
  {
   "cell_type": "markdown",
   "metadata": {
    "id": "yOfr46WjjfGL"
   },
   "source": [
    "## Evaluation"
   ]
  },
  {
   "cell_type": "code",
   "execution_count": null,
   "metadata": {
    "id": "A840jgD8jfGL"
   },
   "outputs": [],
   "source": [
    "# Compute VOC-Style mAP @ IoU=0.5\n",
    "# Running on 10 images. Increase for better accuracy.\n",
    "image_ids = np.random.choice(dataset_val.image_ids, 10)\n",
    "APs = []\n",
    "for _image_id in image_ids:\n",
    "    # Load image and ground truth data\n",
    "    image, image_meta, gt_class_id, gt_bbox, gt_mask = modellib.load_image_gt(dataset_val, inference_config, _image_id,\n",
    "                                                                              use_mini_mask=False)\n",
    "    molded_images = np.expand_dims(modellib.mold_image(image, inference_config), 0)\n",
    "    # Run object detection\n",
    "    results = model.detect([image], verbose=0)\n",
    "    r = results[0]\n",
    "    # Compute AP\n",
    "    AP, precisions, recalls, overlaps = utils.compute_ap(gt_bbox, gt_class_id, gt_mask,\n",
    "                                                         r['rois'], r['class_ids'], r['scores'], r['masks'])\n",
    "    APs.append(AP)\n",
    "\n",
    "print('mAP: ', np.mean(APs))\n"
   ]
  }
 ],
 "metadata": {
  "kernelspec": {
   "display_name": "Python 3",
   "language": "python",
   "name": "python3"
  },
  "language_info": {
   "codemirror_mode": {
    "name": "ipython",
    "version": 3
   },
   "file_extension": ".py",
   "mimetype": "text/x-python",
   "name": "python",
   "nbconvert_exporter": "python",
   "pygments_lexer": "ipython3",
   "version": "3.6.2"
  },
  "colab": {
   "provenance": [],
   "collapsed_sections": []
  },
  "accelerator": "GPU",
  "gpuClass": "standard"
 },
 "nbformat": 4,
 "nbformat_minor": 0
}
